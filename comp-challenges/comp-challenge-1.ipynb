{
 "cells": [
  {
   "cell_type": "markdown",
   "metadata": {},
   "source": [
    "## Computational Challenge 1\n",
    "\n",
    "Group \\#1\n",
    "\n",
    "Students: Alan Akil, Danial Asgari, Daniel Ajuzie, Michael Batista, and Saul Acevedo\n",
    "\n",
    "Course: Math 6397 - Stochastic Processes in Biology\n",
    "\n",
    "Professors: Dr. Josić & Dr. Stewart\n",
    "\n",
    "Challenge:\n",
    "\n",
    "Rejection sampling is a useful method for generating random samples from a distribution\n",
    "$f(x)$ that may be hard to sample from. The idea is to generate samples from a known distribution $g(x)$, and then either to accept or reject the samples. The criterion for acceptance and rejection, and the algorithm are described here\n",
    "\n",
    "https://bookdown.org/rdpeng/advstatcomp/rejection-sampling.html\n",
    "\n",
    "Use either the algorithm described in sections 6.3.1 or 6.3.3 on this webpage to do the following:\n",
    "\n",
    "Use the uniform density on the unit interval as a candidate density to generate samples from the beta distribution.\n",
    "\n",
    "Questions for discussion:\n",
    "1. When do you think the method becomes inefficient?\n",
    "2. Do you think that rejection sampling can be extended to higher dimensions? How?"
   ]
  },
  {
   "cell_type": "code",
   "execution_count": 14,
   "metadata": {},
   "outputs": [],
   "source": [
    "# Import packages needed.\n",
    "import numpy as np\n",
    "import random\n",
    "from scipy.special import gamma, factorial\n",
    "import matplotlib.pyplot as plt\n",
    "import seaborn as sns"
   ]
  },
  {
   "cell_type": "code",
   "execution_count": 135,
   "metadata": {},
   "outputs": [
    {
     "data": {
      "image/png": "[encoded data removed]",
      "text/plain": [
       "<Figure size 432x288 with 1 Axes>"
      ]
     },
     "metadata": {},
     "output_type": "display_data"
    }
   ],
   "source": [
    "# Set seed for reproducibility\n",
    "seed= 512\n",
    "random.seed(seed)\n",
    "\n",
    "# Pick alpha and beta such that the tails of g~U(0,1) are heavier.\n",
    "alpha = 1.1\n",
    "beta = 1.1\n",
    "B=gamma(alpha)*gamma(beta)/gamma(alpha+beta) # Constant in the density of f~Beta(alpha,beta)\n",
    "c = 1.001 # sup(f/g) - how to calculate?\n",
    "\n",
    "Num_samples = 10**6 # Number of samples\n",
    "\n",
    "U = np.random.uniform(0,1,(Num_samples,1)) # Samples to accept or reject\n",
    "X = np.random.uniform(0,1,(Num_samples,1)) # Samples from candidate density g ~ U(0,1)\n",
    "g = 1 # density of U(0,1)\n",
    "accepted_samples = []\n",
    "\n",
    "for i in range(Num_samples):\n",
    "    x = X[i,0]\n",
    "    f = ( x**(alpha-1) * (1-x**(beta-1)) ) / B  \n",
    "    if U[i,0] < f/(g*c):\n",
    "        accepted_samples.append(x)\n",
    "        c = np.max((c,f/(g)))\n",
    "\n",
    "accepted_samples = np.array(accepted_samples)\n",
    "\n",
    "\n",
    "## Plot results\n",
    "sns.set()\n",
    "sns.set_style('whitegrid')\n",
    "sns.set_style('white')\n",
    "\n",
    "sns.distplot(accepted_samples,hist=True) # Distribution of accepted samples\n",
    "\n",
    "x = np.linspace(0,1,num=10**4)\n",
    "f = ( x**(alpha-1) * (1-x**(beta-1)) ) / B\n",
    "\n",
    "plt.plot(x, f / np.sum(f[:-1]*np.diff(x)), color='tab:orange',label='True pdf') # True pdf\n",
    "\n",
    "plt.xlim((0,1))\n",
    "plt.xlabel('x')\n",
    "plt.ylabel('Count')\n",
    "\n",
    "plt.legend()\n",
    "\n",
    "sns.despine()\n",
    "plt.show()"
   ]
  },
  {
   "cell_type": "markdown",
   "metadata": {},
   "source": [
    "## Results\n",
    "\n",
    "Rejection sampling works remarkably well for values of $\\alpha,\\beta >1$, while for values lower than 1, no samples are accepted. This is because in rejection sampling, we need our candidate density to have heavier tails than the target distribution. For $\\alpha,\\beta<1$, the tails of the beta distribution are well above 1. "
   ]
  },
  {
   "cell_type": "code",
   "execution_count": null,
   "metadata": {},
   "outputs": [],
   "source": []
  },
  {
   "cell_type": "code",
   "execution_count": null,
   "metadata": {},
   "outputs": [],
   "source": []
  },
  {
   "cell_type": "code",
   "execution_count": null,
   "metadata": {},
   "outputs": [],
   "source": []
  },
  {
   "cell_type": "code",
   "execution_count": null,
   "metadata": {},
   "outputs": [],
   "source": []
  },
  {
   "cell_type": "code",
   "execution_count": null,
   "metadata": {},
   "outputs": [],
   "source": []
  },
  {
   "cell_type": "code",
   "execution_count": null,
   "metadata": {},
   "outputs": [],
   "source": []
  }
 ],
 "metadata": {
  "kernelspec": {
   "display_name": "Python 3",
   "language": "python",
   "name": "python3"
  },
  "language_info": {
   "codemirror_mode": {
    "name": "ipython",
    "version": 3
   },
   "file_extension": ".py",
   "mimetype": "text/x-python",
   "name": "python",
   "nbconvert_exporter": "python",
   "pygments_lexer": "ipython3",
   "version": "3.7.6"
  }
 },
 "nbformat": 4,
 "nbformat_minor": 4
}
