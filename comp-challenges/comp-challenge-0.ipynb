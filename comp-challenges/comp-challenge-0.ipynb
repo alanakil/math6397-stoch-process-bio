{
 "cells": [
  {
   "cell_type": "markdown",
   "metadata": {},
   "source": [
    "## Computational Challenge 0\n",
    "Student: Alan Akil \n",
    "\n",
    "Course: Math 6397 - Stochastic Processes in Biology\n",
    "\n",
    "Professors: Dr. Josić & Dr. Stewart\n",
    "\n",
    "Challenge:\n",
    "\n",
    "As discussed in class, write a short Python program that takes a sequence of 19 numbers, and generates 4 groups randomly. There should be 3 groups of 5, and one group of 4 numbers.\n",
    "Save the code in your Github repository and send me the link. I will then clone the repository, and make sure that everything works. You will also use the repository to turn in homeworks, so it is good to set it up early."
   ]
  },
  {
   "cell_type": "code",
   "execution_count": 89,
   "metadata": {},
   "outputs": [],
   "source": [
    "# Import packages needed.\n",
    "import numpy as np\n",
    "import random"
   ]
  },
  {
   "cell_type": "code",
   "execution_count": 90,
   "metadata": {},
   "outputs": [],
   "source": [
    "# Define the original sequence of numbers.\n",
    "original_sequence = range(19)"
   ]
  },
  {
   "cell_type": "code",
   "execution_count": 91,
   "metadata": {},
   "outputs": [],
   "source": [
    "group1 = np.sort(random.sample(original_sequence,5)) # Sample 5 for first group."
   ]
  },
  {
   "cell_type": "code",
   "execution_count": 92,
   "metadata": {},
   "outputs": [],
   "source": [
    "new_seq = list(np.setdiff1d(original_sequence,group1))\n",
    "group2 = np.sort(random.sample(new_seq,5)) # Sample 5 for second group."
   ]
  },
  {
   "cell_type": "code",
   "execution_count": 93,
   "metadata": {},
   "outputs": [],
   "source": [
    "new_seq = list(np.setdiff1d(new_seq,group2))\n",
    "group3 = np.sort(random.sample(new_seq,5)) # Sample 5 for third group."
   ]
  },
  {
   "cell_type": "code",
   "execution_count": 94,
   "metadata": {},
   "outputs": [],
   "source": [
    "new_seq = list(np.setdiff1d(new_seq,group3))\n",
    "group4 = np.sort(new_seq) # Sample 4 for fourth group."
   ]
  },
  {
   "cell_type": "code",
   "execution_count": 95,
   "metadata": {},
   "outputs": [
    {
     "name": "stdout",
     "output_type": "stream",
     "text": [
      "Group 1 has: [ 1  6 13 14 17]\n",
      "Group 2 has: [ 0  9 10 12 15]\n",
      "Group 3 has: [ 3  5  8 11 16]\n",
      "Group 4 has: [ 2  4  7 18]\n"
     ]
    }
   ],
   "source": [
    "print('Group 1 has:', group1)\n",
    "print('Group 2 has:', group2)\n",
    "print('Group 3 has:', group3)\n",
    "print('Group 4 has:', group4)"
   ]
  },
  {
   "cell_type": "code",
   "execution_count": null,
   "metadata": {},
   "outputs": [],
   "source": []
  }
 ],
 "metadata": {
  "kernelspec": {
   "display_name": "Python 3",
   "language": "python",
   "name": "python3"
  },
  "language_info": {
   "codemirror_mode": {
    "name": "ipython",
    "version": 3
   },
   "file_extension": ".py",
   "mimetype": "text/x-python",
   "name": "python",
   "nbconvert_exporter": "python",
   "pygments_lexer": "ipython3",
   "version": "3.7.6"
  }
 },
 "nbformat": 4,
 "nbformat_minor": 4
}
