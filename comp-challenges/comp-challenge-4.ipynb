{
 "cells": [
  {
   "cell_type": "markdown",
   "metadata": {},
   "source": [
    "## Computational Challenge 4\n",
    "\n",
    "Group \\#2\n",
    "\n",
    "Students: Thuyen Dang, Chunmei Sun, Jayson Cortez, and Alan Akil\n",
    "\n",
    "Course: Math 6397 - Stochastic Processes in Biology\n",
    "\n",
    "Professors: Dr. Josić & Dr. Stewart\n",
    "\n",
    "$\\textbf{Challenge:}$\n",
    "\n",
    "\n",
    "In this challenge you will implement stochastic simulations of two synthetic biological circuits. The synthetic genetic switch, and the repressilator were described in two back–to–back papers in Nature in 2000. Please follow the link on the website to the two papers.\n",
    "In this challenge two groups will report on the deterministic version of models of these circuits, while the other two will report on the stochastic versions. The last part of each question asks that you compare the results of the simulations. Therefore groups 1 and 2, and groups 3 and 4 will need to work together on each project.\n",
    "\n",
    "\n",
    "Group 2:\n",
    "Consider the exclusive switch discussed in section III of the paper by Loinger, et al. (the one discussing the stochastic genetic switch). The master equation for this system is given in Eq. (14)\n",
    "- Construct a Petri net representation of the system based on the description in the text and the master equation.\n",
    "- Set up a stochastic simulation of this system. Use the parameters discussed in the text, and change $k$ from 0.005 to 50, as in figure 4. What happens to the switching times between the two states as $k$ is increased? You can use the Gillespie algorithm. Show the traces for $N_A$ and $N_B$ in three or four cases. Discuss whether the change is as expected.\n",
    "- Together with Group 1 explain whether or whether not these results can be explained using the deterministic equations."
   ]
  },
  {
   "cell_type": "markdown",
   "metadata": {},
   "source": [
    "## Petri net representation of the system\n",
    "\n",
    "![title](./Petrinet_comp_challenge_4.jpg)"
   ]
  },
  {
   "cell_type": "code",
   "execution_count": 3,
   "metadata": {},
   "outputs": [],
   "source": [
    "# Import packages needed.\n",
    "import numpy as np\n",
    "import random\n",
    "from scipy.special import gamma, factorial\n",
    "import matplotlib.pyplot as plt\n",
    "import seaborn as sns\n",
    "import collections\n",
    "import tqdm\n",
    "from numba import jit\n",
    "import time\n",
    "from scipy.integrate import solve_ivp"
   ]
  },
  {
   "cell_type": "code",
   "execution_count": 2,
   "metadata": {},
   "outputs": [],
   "source": [
    "def ssa(x,g,d,a_0,a_1,T):\n",
    "    # x=[A,rA,B,rB] is the molecule count of each species.\n",
    "    t_x=[0] # reaction time of fully-observed trajectory\n",
    "    i=0\n",
    "    # Reaction matrix.\n",
    "    v=np.array([[1,0,0,0],[-1,0,0,0],[-1,1,0,0],[1,-1,0,0],[0,0,1,0],[0,0,-1,0],[0,0,-1,1],[0,0,1,-1]])\n",
    "    while t_x[i]<T:\n",
    "        # Propensity functions\n",
    "        a = np.array([g*(1-x[i,3]),d*x[i,0],a_0*x[i,0]*(1-x[i,1]-x[i,3]),a_1*x[i,1],g*(1-x[i,1]),\n",
    "                      d*x[i,2],a_0*x[i,2]*(1-x[i,1]-x[i,3]),a_1*x[i,3]])\n",
    "        sum_a=np.sum(a)\n",
    "        cumsum_a=np.cumsum(a,axis=0)\n",
    "        # Draw 2 random numbers from U(0,1)\n",
    "        epsilon=np.random.uniform(0,1,2)\n",
    "        # Find the reaction that will take place next.\n",
    "        j=np.min(np.where(epsilon[0]*sum_a<cumsum_a))\n",
    "        # Compute the time until reaction j happens.\n",
    "        tau=(np.log(1/epsilon[1]))/sum_a\n",
    "        # Update molecule counts due to reaction j happening.\n",
    "        x=np.append(x,[x[i,:]+v[j,:]],axis=0)\n",
    "        # Update time of simulation.\n",
    "        t_x=np.append(t_x,[t_x[i]+tau])\n",
    "        i+=1\n",
    "    return x,t_x"
   ]
  },
  {
   "cell_type": "code",
   "execution_count": null,
   "metadata": {},
   "outputs": [],
   "source": []
  }
 ],
 "metadata": {
  "kernelspec": {
   "display_name": "Python 3",
   "language": "python",
   "name": "python3"
  },
  "language_info": {
   "codemirror_mode": {
    "name": "ipython",
    "version": 3
   },
   "file_extension": ".py",
   "mimetype": "text/x-python",
   "name": "python",
   "nbconvert_exporter": "python",
   "pygments_lexer": "ipython3",
   "version": "3.7.6"
  }
 },
 "nbformat": 4,
 "nbformat_minor": 4
}
