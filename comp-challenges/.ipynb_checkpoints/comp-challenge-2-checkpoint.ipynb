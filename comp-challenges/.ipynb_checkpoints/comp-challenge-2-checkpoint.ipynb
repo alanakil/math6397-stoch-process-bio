{
 "cells": [
  {
   "cell_type": "markdown",
   "metadata": {},
   "source": [
    "## Computational Challenge 2\n",
    "\n",
    "Group \\#4\n",
    "\n",
    "Students: Megan Stickler, Rashedur Rahman, Michael Batista, and Alan Akil\n",
    "\n",
    "Course: Math 6397 - Stochastic Processes in Biology\n",
    "\n",
    "Professors: Dr. Josić & Dr. Stewart\n",
    "\n",
    "$\\textbf{Challenge:}$\n",
    "\n",
    "In this computational challenge you will implement one of two Markov chain models of a biological system\n",
    "\n",
    "Model 2: Fixation in the Moran model. \n",
    "The Moran model describes the frequency of different genes in a population of fixed size $N$. Here we will consider a haploid population with a genotype composed of a single locus, which can be occupied by one of two alleles, $a$ and $A$. We will assume\n",
    "that both alleles are present in the population, and that there is no selection for or against either allele.\n",
    "\n",
    "Denote the number of individuals with allele $a$ by $j$, and the number of individuals with allele $A$ by $N-j$. The Moran model assumes that birth and death occur simultaneously, as a single event. First an individual is chosen to reproduce with mutation. A second individual is then chosen to die. This birth-death event constitutes a single step in the Moran process. Denote the number of individuals with allele $a$ at time $t$ by $X_t$. The transition probabilities for this Moran process are given by:\n",
    "\n",
    "$$ P(X_{t+1}=j+1|X_t=j) = \\bigg( \\frac{j}{N} (1−\\mu_a) + \\frac{N−j}{N} \\mu_A \\bigg) \\times \\bigg( \\frac{N−j}{N} \\bigg)$$\n",
    "\n",
    "$$ P(X_{t+1}=j-1|X_t=j) = \\bigg( \\frac{N−j}{N} (1−\\mu_A) + \\frac{j}{N} \\mu_a \\bigg) \\times \\bigg( \\frac{j}{N} \\bigg)$$\n",
    "\n",
    "$$ P(X_{t+1}=j|X_t=j) = 1 - \\bigg( \\frac{j}{N} (1−\\mu_a) + \\frac{N−j}{N} \\mu_A \\bigg) \\times \\bigg( \\frac{N−j}{N} \\bigg) - \\bigg( \\frac{N−j}{N} (1−\\mu_A) + \\frac{j}{N} \\mu_a \\bigg) \\times \\bigg( \\frac{j}{N} \\bigg)$$\n",
    "\n",
    "where $\\mu_a$ is the probability that allele $a$ mutates to allele $A$ during reproduction and $\\mu_A$ is the\n",
    "probability that allele $A$ mutates to allele $a$.\n",
    "\n",
    " - Assume that $\\mu_a = \\mu_A = 0$. In this case the Moran model has two absorbing states at $j= 0$ and $j=N$ , i.e. one state in which all individuals have allele $A$ and one in which all individuals have allele $a$. Numerically estimate the probability that the Moran process initialized at $X_0 = 1$ will eventually reach fixation for $a$, i.e. the absorbing state in which all individuals have allele $a$.\n",
    "\n",
    " - Assume again that $\\mu_a = \\mu_A = 0$. Conditional on $a$ reaching fixation, estimate the time for $a$ to become fixed for a Moran process initialized at $X_0=1$.\n",
    "\n",
    " - Numerically estimate the stationary distribution for the Moran process with (i) $\\mu_a = \\mu_A = 0.1/N$, (ii) $\\mu_a = \\mu_A = 1/N$, and (iii) $\\mu_a = \\mu_A = 10/N$.\n",
    " \n",
    " - Briefly discuss how adding selection for and against $a$ might change these results."
   ]
  },
  {
   "cell_type": "code",
   "execution_count": 180,
   "metadata": {},
   "outputs": [],
   "source": [
    "# Import packages needed.\n",
    "import numpy as np\n",
    "import random\n",
    "from scipy.special import gamma, factorial\n",
    "import matplotlib.pyplot as plt\n",
    "import seaborn as sns\n",
    "import collections\n",
    "import tqdm\n",
    "from numba import jit\n",
    "from numba.experimental import jitclass\n",
    "import time"
   ]
  },
  {
   "cell_type": "code",
   "execution_count": 207,
   "metadata": {},
   "outputs": [],
   "source": [
    "class MoranProcess:\n",
    "    \"\"\"\n",
    "    Moran model for alleges a or A with mutation and death. No selection.\n",
    "    \"\"\"\n",
    "#     @jit\n",
    "    def __init__(self, num_a,mu_a,mu_A,num_time_steps, seed=None):\n",
    "\n",
    "        if seed is not None:\n",
    "            np.random.seed(seed)\n",
    "\n",
    "        self.num_a = num_a\n",
    "        self.num_A = N - num_a\n",
    "        self.mu_a = mu_a\n",
    "        self.mu_A = mu_A\n",
    "        self.N = N\n",
    "        \n",
    "        self.history = [(self.num_a, self.num_A)]\n",
    "#     @jit\n",
    "    def step(self):\n",
    "        \"\"\"\n",
    "        Select a or A for birth.\n",
    "        Select a or A for death.\n",
    "\n",
    "        Update history and states.\n",
    "        \"\"\"\n",
    "        ## Birth and death process\n",
    "        probability_plusone_a = (self.num_a / self.N * (1-self.mu_a) + self.num_A/self.N *self.mu_A) * (self.num_A / self.N)\n",
    "        probability_minusone_a = (self.num_A / self.N * (1-self.mu_A) + self.num_a/self.N *self.mu_a) * (self.num_a / self.N)\n",
    "        probability_same_a =  1 - probability_plusone_a - probability_minusone_a\n",
    "        \n",
    "        U = np.random.uniform(0,1)\n",
    "        \n",
    "        \n",
    "        if U < probability_plusone_a:\n",
    "            # Birth of a and death of A.\n",
    "            self.num_a += 1 # birth of a\n",
    "            self.num_A -= 1 # death of A\n",
    "        elif U > probability_plusone_a and U < probability_plusone_a + probability_minusone_a:\n",
    "            # Birth of A and death of a.\n",
    "            self.num_A += 1 # birth of A\n",
    "            self.num_a -= 1 # death of a\n",
    "\n",
    "        self.history.append((self.num_a, self.num_A))\n",
    "#     @jit\n",
    "    def simulate(self):\n",
    "        \"\"\"\n",
    "        Run the entire simulation: repeatedly step through\n",
    "        until the number of hawks is either 0 or 3.\n",
    "        \"\"\"\n",
    "        for i in range(num_time_steps):\n",
    "            self.step()\n",
    "        return self.history"
   ]
  },
  {
   "cell_type": "markdown",
   "metadata": {},
   "source": [
    " - Assume that $\\mu_a = \\mu_A = 0$. In this case the Moran model has two absorbing states at $j= 0$ and $j=N$ , i.e. one state in which all individuals have allele $A$ and one in which all individuals have allele $a$. Numerically estimate the probability that the Moran process initialized at $X_0 = 1$ will eventually reach fixation for $a$, i.e. the absorbing state in which all individuals have allele $a$."
   ]
  },
  {
   "cell_type": "code",
   "execution_count": 215,
   "metadata": {},
   "outputs": [
    {
     "name": "stdout",
     "output_type": "stream",
     "text": [
      "0.0\n",
      "0.1\n",
      "0.2\n",
      "0.3\n",
      "0.4\n",
      "0.5\n",
      "0.6\n",
      "0.7\n",
      "0.8\n",
      "0.9\n"
     ]
    },
    {
     "data": {
      "image/png": "[encoded data removed]",
      "text/plain": [
       "<Figure size 432x288 with 1 Axes>"
      ]
     },
     "metadata": {
      "needs_background": "light"
     },
     "output_type": "display_data"
    },
    {
     "name": "stdout",
     "output_type": "stream",
     "text": [
      "Simulation time: 294.45878314971924 sec\n",
      "Number of realizations = 100\n",
      "Probability of reaching absorbing state: 0.0\n"
     ]
    }
   ],
   "source": [
    "num_realizations = 1* 10 ** 2\n",
    "path_lengths = []\n",
    "paths=[]\n",
    "num_time_steps = 1 * 10 ** 6 -1 \n",
    "\n",
    "N = 3 * 10 ** 2\n",
    "X_0= 1\n",
    "num_a = X_0\n",
    "mu_a=0\n",
    "mu_A=0\n",
    "\n",
    "start_time = time.time() # start timing\n",
    "for seed in range(num_realizations):\n",
    "    mp = MoranProcess(num_a,mu_a,mu_A,num_time_steps,seed)\n",
    "    paths.append(mp.simulate()) # save each realization\n",
    "    if seed*30%num_realizations==0:\n",
    "        print(seed/num_realizations)\n",
    "\n",
    "stop_time = time.time() # start timing\n",
    "\n",
    "\n",
    "paths = np.array(paths).squeeze()\n",
    "final_state = paths[:,-1,0]\n",
    "\n",
    "for i in range(num_realizations):\n",
    "    plt.plot(paths[i],linewidth=0.1)\n",
    "\n",
    "plt.xlabel('Time steps')\n",
    "plt.ylabel('Number of alleles')\n",
    "plt.show()\n",
    "\n",
    "probability_reaching_abs_state = 1 - np.count_nonzero(N-final_state)/num_realizations\n",
    "print('Simulation time:',stop_time-start_time,'sec')\n",
    "print('Number of realizations =',num_realizations)\n",
    "print('Probability of reaching absorbing state:',probability_reaching_abs_state)\n"
   ]
  },
  {
   "cell_type": "code",
   "execution_count": null,
   "metadata": {},
   "outputs": [
    {
     "name": "stdout",
     "output_type": "stream",
     "text": [
      "Simulation time: 507.55045890808105 sec\n",
      "Simulation time: 1059.9010610580444 sec\n"
     ]
    }
   ],
   "source": [
    "# compute the probability of absorption for different N.\n",
    "num_realizations = 1* 10 ** 3\n",
    "num_time_steps = 1 * 10 ** 5 -1 \n",
    "\n",
    "N_vector = np.arange(2,20,step=2)\n",
    "X_0= 1\n",
    "num_a = X_0\n",
    "mu_a=0\n",
    "mu_A=0\n",
    "\n",
    "probability_reaching_abs_state = np.zeros((len(N_vector),1))\n",
    "\n",
    "start_time = time.time() # start timing\n",
    "for i in range(len(N_vector)):\n",
    "    N=N_vector[i]\n",
    "    paths=[]\n",
    "    for seed in range(num_realizations):\n",
    "        mp = MoranProcess(num_a,mu_a,mu_A,num_time_steps,seed)\n",
    "        paths.append(mp.simulate()) # save each realization\n",
    "#         if seed*30%num_realizations==0:\n",
    "#             print(seed/num_realizations)\n",
    "    stop_time = time.time() # start timing\n",
    "    paths = np.array(paths).squeeze()\n",
    "    final_state = paths[:,-1,0]\n",
    "    probability_reaching_abs_state[i] = 1 - np.count_nonzero(N-final_state)/num_realizations\n",
    "    print('Simulation time:',stop_time-start_time,'sec')\n",
    "\n",
    "\n",
    "for i in range(num_realizations):\n",
    "    plt.plot(paths[i],linewidth=0.1)\n",
    "\n",
    "plt.xlabel('Time steps')\n",
    "plt.ylabel('Number of alleles')\n",
    "plt.show()\n",
    "\n",
    "\n",
    "print('Number of realizations =',num_realizations)\n",
    "print('Probability of reaching absorbing state:',probability_reaching_abs_state)"
   ]
  },
  {
   "cell_type": "markdown",
   "metadata": {},
   "source": [
    "$\\textbf{Answer:}$ The probability that the Moran process initialized with one individual of allele $a$ reaches fixation for $a$ is 0.013."
   ]
  },
  {
   "cell_type": "markdown",
   "metadata": {},
   "source": [
    "Prompt:\n",
    "- Assume again that $\\mu_a = \\mu_A = 0$. Conditional on $a$ reaching fixation, estimate the time for $a$ to become fixed for a Moran process initialized at $X_0=1$."
   ]
  },
  {
   "cell_type": "code",
   "execution_count": null,
   "metadata": {},
   "outputs": [],
   "source": []
  },
  {
   "cell_type": "code",
   "execution_count": null,
   "metadata": {},
   "outputs": [],
   "source": []
  }
 ],
 "metadata": {
  "kernelspec": {
   "display_name": "Python 3",
   "language": "python",
   "name": "python3"
  },
  "language_info": {
   "codemirror_mode": {
    "name": "ipython",
    "version": 3
   },
   "file_extension": ".py",
   "mimetype": "text/x-python",
   "name": "python",
   "nbconvert_exporter": "python",
   "pygments_lexer": "ipython3",
   "version": "3.7.6"
  }
 },
 "nbformat": 4,
 "nbformat_minor": 4
}
